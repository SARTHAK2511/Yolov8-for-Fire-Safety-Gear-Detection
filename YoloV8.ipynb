{
  "nbformat": 4,
  "nbformat_minor": 0,
  "metadata": {
    "colab": {
      "provenance": [],
      "gpuType": "T4",
      "mount_file_id": "1rf46nYfh8f02NUneHxhagCzf_yevPSch",
      "authorship_tag": "ABX9TyMesx+en16Sc5sZ7dW5pJg/",
      "include_colab_link": true
    },
    "kernelspec": {
      "name": "python3",
      "display_name": "Python 3"
    },
    "language_info": {
      "name": "python"
    },
    "accelerator": "GPU"
  },
  "cells": [
    {
      "cell_type": "markdown",
      "metadata": {
        "id": "view-in-github",
        "colab_type": "text"
      },
      "source": [
        "<a href=\"https://colab.research.google.com/github/SARTHAK2511/Yolov8-for-Fire-Safety-Gear-Detection/blob/main/YoloV8.ipynb\" target=\"_parent\"><img src=\"https://colab.research.google.com/assets/colab-badge.svg\" alt=\"Open In Colab\"/></a>"
      ]
    },
    {
      "cell_type": "code",
      "execution_count": null,
      "metadata": {
        "colab": {
          "base_uri": "https://localhost:8080/"
        },
        "id": "IvgUMZhOoX-i",
        "outputId": "8b033a00-bb10-4d9f-8325-1e707e532b3e"
      },
      "outputs": [
        {
          "output_type": "stream",
          "name": "stdout",
          "text": [
            "Collecting ultralytics==8.0.20\n",
            "  Downloading ultralytics-8.0.20-py3-none-any.whl (261 kB)\n",
            "\u001b[?25l     \u001b[90m━━━━━━━━━━━━━━━━━━━━━━━━━━━━━━━━━━━━━━━━\u001b[0m \u001b[32m0.0/261.2 kB\u001b[0m \u001b[31m?\u001b[0m eta \u001b[36m-:--:--\u001b[0m\r\u001b[2K     \u001b[91m━━━━━━━━━━━━━━━━━━\u001b[0m\u001b[91m╸\u001b[0m\u001b[90m━━━━━━━━━━━━━━━━━━━━━\u001b[0m \u001b[32m122.9/261.2 kB\u001b[0m \u001b[31m3.7 MB/s\u001b[0m eta \u001b[36m0:00:01\u001b[0m\r\u001b[2K     \u001b[90m━━━━━━━━━━━━━━━━━━━━━━━━━━━━━━━━━━━━━━━━\u001b[0m \u001b[32m261.2/261.2 kB\u001b[0m \u001b[31m4.7 MB/s\u001b[0m eta \u001b[36m0:00:00\u001b[0m\n",
            "\u001b[?25hRequirement already satisfied: matplotlib>=3.2.2 in /usr/local/lib/python3.10/dist-packages (from ultralytics==8.0.20) (3.7.1)\n",
            "Requirement already satisfied: numpy>=1.18.5 in /usr/local/lib/python3.10/dist-packages (from ultralytics==8.0.20) (1.25.2)\n",
            "Requirement already satisfied: opencv-python>=4.6.0 in /usr/local/lib/python3.10/dist-packages (from ultralytics==8.0.20) (4.8.0.76)\n",
            "Requirement already satisfied: Pillow>=7.1.2 in /usr/local/lib/python3.10/dist-packages (from ultralytics==8.0.20) (9.4.0)\n",
            "Requirement already satisfied: PyYAML>=5.3.1 in /usr/local/lib/python3.10/dist-packages (from ultralytics==8.0.20) (6.0.1)\n",
            "Requirement already satisfied: requests>=2.23.0 in /usr/local/lib/python3.10/dist-packages (from ultralytics==8.0.20) (2.31.0)\n",
            "Requirement already satisfied: scipy>=1.4.1 in /usr/local/lib/python3.10/dist-packages (from ultralytics==8.0.20) (1.11.4)\n",
            "Requirement already satisfied: torch>=1.7.0 in /usr/local/lib/python3.10/dist-packages (from ultralytics==8.0.20) (2.1.0+cu121)\n",
            "Requirement already satisfied: torchvision>=0.8.1 in /usr/local/lib/python3.10/dist-packages (from ultralytics==8.0.20) (0.16.0+cu121)\n",
            "Requirement already satisfied: tqdm>=4.64.0 in /usr/local/lib/python3.10/dist-packages (from ultralytics==8.0.20) (4.66.1)\n",
            "Requirement already satisfied: tensorboard>=2.4.1 in /usr/local/lib/python3.10/dist-packages (from ultralytics==8.0.20) (2.15.2)\n",
            "Requirement already satisfied: pandas>=1.1.4 in /usr/local/lib/python3.10/dist-packages (from ultralytics==8.0.20) (1.5.3)\n",
            "Requirement already satisfied: seaborn>=0.11.0 in /usr/local/lib/python3.10/dist-packages (from ultralytics==8.0.20) (0.13.1)\n",
            "Requirement already satisfied: ipython in /usr/local/lib/python3.10/dist-packages (from ultralytics==8.0.20) (7.34.0)\n",
            "Requirement already satisfied: psutil in /usr/local/lib/python3.10/dist-packages (from ultralytics==8.0.20) (5.9.5)\n",
            "Requirement already satisfied: thop>=0.1.1 in /usr/local/lib/python3.10/dist-packages (from ultralytics==8.0.20) (0.1.1.post2209072238)\n",
            "Collecting sentry-sdk (from ultralytics==8.0.20)\n",
            "  Downloading sentry_sdk-1.40.4-py2.py3-none-any.whl (257 kB)\n",
            "\u001b[2K     \u001b[90m━━━━━━━━━━━━━━━━━━━━━━━━━━━━━━━━━━━━━━━━\u001b[0m \u001b[32m257.9/257.9 kB\u001b[0m \u001b[31m9.0 MB/s\u001b[0m eta \u001b[36m0:00:00\u001b[0m\n",
            "\u001b[?25hRequirement already satisfied: contourpy>=1.0.1 in /usr/local/lib/python3.10/dist-packages (from matplotlib>=3.2.2->ultralytics==8.0.20) (1.2.0)\n",
            "Requirement already satisfied: cycler>=0.10 in /usr/local/lib/python3.10/dist-packages (from matplotlib>=3.2.2->ultralytics==8.0.20) (0.12.1)\n",
            "Requirement already satisfied: fonttools>=4.22.0 in /usr/local/lib/python3.10/dist-packages (from matplotlib>=3.2.2->ultralytics==8.0.20) (4.48.1)\n",
            "Requirement already satisfied: kiwisolver>=1.0.1 in /usr/local/lib/python3.10/dist-packages (from matplotlib>=3.2.2->ultralytics==8.0.20) (1.4.5)\n",
            "Requirement already satisfied: packaging>=20.0 in /usr/local/lib/python3.10/dist-packages (from matplotlib>=3.2.2->ultralytics==8.0.20) (23.2)\n",
            "Requirement already satisfied: pyparsing>=2.3.1 in /usr/local/lib/python3.10/dist-packages (from matplotlib>=3.2.2->ultralytics==8.0.20) (3.1.1)\n",
            "Requirement already satisfied: python-dateutil>=2.7 in /usr/local/lib/python3.10/dist-packages (from matplotlib>=3.2.2->ultralytics==8.0.20) (2.8.2)\n",
            "Requirement already satisfied: pytz>=2020.1 in /usr/local/lib/python3.10/dist-packages (from pandas>=1.1.4->ultralytics==8.0.20) (2023.4)\n",
            "Requirement already satisfied: charset-normalizer<4,>=2 in /usr/local/lib/python3.10/dist-packages (from requests>=2.23.0->ultralytics==8.0.20) (3.3.2)\n",
            "Requirement already satisfied: idna<4,>=2.5 in /usr/local/lib/python3.10/dist-packages (from requests>=2.23.0->ultralytics==8.0.20) (3.6)\n",
            "Requirement already satisfied: urllib3<3,>=1.21.1 in /usr/local/lib/python3.10/dist-packages (from requests>=2.23.0->ultralytics==8.0.20) (2.0.7)\n",
            "Requirement already satisfied: certifi>=2017.4.17 in /usr/local/lib/python3.10/dist-packages (from requests>=2.23.0->ultralytics==8.0.20) (2024.2.2)\n",
            "Requirement already satisfied: absl-py>=0.4 in /usr/local/lib/python3.10/dist-packages (from tensorboard>=2.4.1->ultralytics==8.0.20) (1.4.0)\n",
            "Requirement already satisfied: grpcio>=1.48.2 in /usr/local/lib/python3.10/dist-packages (from tensorboard>=2.4.1->ultralytics==8.0.20) (1.60.1)\n",
            "Requirement already satisfied: google-auth<3,>=1.6.3 in /usr/local/lib/python3.10/dist-packages (from tensorboard>=2.4.1->ultralytics==8.0.20) (2.27.0)\n",
            "Requirement already satisfied: google-auth-oauthlib<2,>=0.5 in /usr/local/lib/python3.10/dist-packages (from tensorboard>=2.4.1->ultralytics==8.0.20) (1.2.0)\n",
            "Requirement already satisfied: markdown>=2.6.8 in /usr/local/lib/python3.10/dist-packages (from tensorboard>=2.4.1->ultralytics==8.0.20) (3.5.2)\n",
            "Requirement already satisfied: protobuf!=4.24.0,>=3.19.6 in /usr/local/lib/python3.10/dist-packages (from tensorboard>=2.4.1->ultralytics==8.0.20) (3.20.3)\n",
            "Requirement already satisfied: setuptools>=41.0.0 in /usr/local/lib/python3.10/dist-packages (from tensorboard>=2.4.1->ultralytics==8.0.20) (67.7.2)\n",
            "Requirement already satisfied: six>1.9 in /usr/local/lib/python3.10/dist-packages (from tensorboard>=2.4.1->ultralytics==8.0.20) (1.16.0)\n",
            "Requirement already satisfied: tensorboard-data-server<0.8.0,>=0.7.0 in /usr/local/lib/python3.10/dist-packages (from tensorboard>=2.4.1->ultralytics==8.0.20) (0.7.2)\n",
            "Requirement already satisfied: werkzeug>=1.0.1 in /usr/local/lib/python3.10/dist-packages (from tensorboard>=2.4.1->ultralytics==8.0.20) (3.0.1)\n",
            "Requirement already satisfied: filelock in /usr/local/lib/python3.10/dist-packages (from torch>=1.7.0->ultralytics==8.0.20) (3.13.1)\n",
            "Requirement already satisfied: typing-extensions in /usr/local/lib/python3.10/dist-packages (from torch>=1.7.0->ultralytics==8.0.20) (4.9.0)\n",
            "Requirement already satisfied: sympy in /usr/local/lib/python3.10/dist-packages (from torch>=1.7.0->ultralytics==8.0.20) (1.12)\n",
            "Requirement already satisfied: networkx in /usr/local/lib/python3.10/dist-packages (from torch>=1.7.0->ultralytics==8.0.20) (3.2.1)\n",
            "Requirement already satisfied: jinja2 in /usr/local/lib/python3.10/dist-packages (from torch>=1.7.0->ultralytics==8.0.20) (3.1.3)\n",
            "Requirement already satisfied: fsspec in /usr/local/lib/python3.10/dist-packages (from torch>=1.7.0->ultralytics==8.0.20) (2023.6.0)\n",
            "Requirement already satisfied: triton==2.1.0 in /usr/local/lib/python3.10/dist-packages (from torch>=1.7.0->ultralytics==8.0.20) (2.1.0)\n",
            "Collecting jedi>=0.16 (from ipython->ultralytics==8.0.20)\n",
            "  Downloading jedi-0.19.1-py2.py3-none-any.whl (1.6 MB)\n",
            "\u001b[2K     \u001b[90m━━━━━━━━━━━━━━━━━━━━━━━━━━━━━━━━━━━━━━━━\u001b[0m \u001b[32m1.6/1.6 MB\u001b[0m \u001b[31m11.6 MB/s\u001b[0m eta \u001b[36m0:00:00\u001b[0m\n",
            "\u001b[?25hRequirement already satisfied: decorator in /usr/local/lib/python3.10/dist-packages (from ipython->ultralytics==8.0.20) (4.4.2)\n",
            "Requirement already satisfied: pickleshare in /usr/local/lib/python3.10/dist-packages (from ipython->ultralytics==8.0.20) (0.7.5)\n",
            "Requirement already satisfied: traitlets>=4.2 in /usr/local/lib/python3.10/dist-packages (from ipython->ultralytics==8.0.20) (5.7.1)\n",
            "Requirement already satisfied: prompt-toolkit!=3.0.0,!=3.0.1,<3.1.0,>=2.0.0 in /usr/local/lib/python3.10/dist-packages (from ipython->ultralytics==8.0.20) (3.0.43)\n",
            "Requirement already satisfied: pygments in /usr/local/lib/python3.10/dist-packages (from ipython->ultralytics==8.0.20) (2.16.1)\n",
            "Requirement already satisfied: backcall in /usr/local/lib/python3.10/dist-packages (from ipython->ultralytics==8.0.20) (0.2.0)\n",
            "Requirement already satisfied: matplotlib-inline in /usr/local/lib/python3.10/dist-packages (from ipython->ultralytics==8.0.20) (0.1.6)\n",
            "Requirement already satisfied: pexpect>4.3 in /usr/local/lib/python3.10/dist-packages (from ipython->ultralytics==8.0.20) (4.9.0)\n",
            "Requirement already satisfied: cachetools<6.0,>=2.0.0 in /usr/local/lib/python3.10/dist-packages (from google-auth<3,>=1.6.3->tensorboard>=2.4.1->ultralytics==8.0.20) (5.3.2)\n",
            "Requirement already satisfied: pyasn1-modules>=0.2.1 in /usr/local/lib/python3.10/dist-packages (from google-auth<3,>=1.6.3->tensorboard>=2.4.1->ultralytics==8.0.20) (0.3.0)\n",
            "Requirement already satisfied: rsa<5,>=3.1.4 in /usr/local/lib/python3.10/dist-packages (from google-auth<3,>=1.6.3->tensorboard>=2.4.1->ultralytics==8.0.20) (4.9)\n",
            "Requirement already satisfied: requests-oauthlib>=0.7.0 in /usr/local/lib/python3.10/dist-packages (from google-auth-oauthlib<2,>=0.5->tensorboard>=2.4.1->ultralytics==8.0.20) (1.3.1)\n",
            "Requirement already satisfied: parso<0.9.0,>=0.8.3 in /usr/local/lib/python3.10/dist-packages (from jedi>=0.16->ipython->ultralytics==8.0.20) (0.8.3)\n",
            "Requirement already satisfied: ptyprocess>=0.5 in /usr/local/lib/python3.10/dist-packages (from pexpect>4.3->ipython->ultralytics==8.0.20) (0.7.0)\n",
            "Requirement already satisfied: wcwidth in /usr/local/lib/python3.10/dist-packages (from prompt-toolkit!=3.0.0,!=3.0.1,<3.1.0,>=2.0.0->ipython->ultralytics==8.0.20) (0.2.13)\n",
            "Requirement already satisfied: MarkupSafe>=2.1.1 in /usr/local/lib/python3.10/dist-packages (from werkzeug>=1.0.1->tensorboard>=2.4.1->ultralytics==8.0.20) (2.1.5)\n",
            "Requirement already satisfied: mpmath>=0.19 in /usr/local/lib/python3.10/dist-packages (from sympy->torch>=1.7.0->ultralytics==8.0.20) (1.3.0)\n",
            "Requirement already satisfied: pyasn1<0.6.0,>=0.4.6 in /usr/local/lib/python3.10/dist-packages (from pyasn1-modules>=0.2.1->google-auth<3,>=1.6.3->tensorboard>=2.4.1->ultralytics==8.0.20) (0.5.1)\n",
            "Requirement already satisfied: oauthlib>=3.0.0 in /usr/local/lib/python3.10/dist-packages (from requests-oauthlib>=0.7.0->google-auth-oauthlib<2,>=0.5->tensorboard>=2.4.1->ultralytics==8.0.20) (3.2.2)\n",
            "Installing collected packages: sentry-sdk, jedi, ultralytics\n",
            "  Attempting uninstall: ultralytics\n",
            "    Found existing installation: ultralytics 8.1.14\n",
            "    Uninstalling ultralytics-8.1.14:\n",
            "      Successfully uninstalled ultralytics-8.1.14\n",
            "Successfully installed jedi-0.19.1 sentry-sdk-1.40.4 ultralytics-8.0.20\n"
          ]
        }
      ],
      "source": [
        "pip install ultralytics==8.0.20\n"
      ]
    },
    {
      "cell_type": "code",
      "source": [
        "from ultralytics import yolo"
      ],
      "metadata": {
        "id": "O-j5uxUooaNj"
      },
      "execution_count": null,
      "outputs": []
    },
    {
      "cell_type": "code",
      "source": [
        "%cd /content/drive/MyDrive/Yolo v8"
      ],
      "metadata": {
        "colab": {
          "base_uri": "https://localhost:8080/"
        },
        "id": "Ic_t6F45rmid",
        "outputId": "12c20dae-b547-4d98-a996-b2dfa3fc2f7d"
      },
      "execution_count": null,
      "outputs": [
        {
          "output_type": "stream",
          "name": "stdout",
          "text": [
            "/content/drive/MyDrive/Yolo v8\n"
          ]
        }
      ]
    },
    {
      "cell_type": "code",
      "source": [
        "!ls"
      ],
      "metadata": {
        "colab": {
          "base_uri": "https://localhost:8080/"
        },
        "id": "1_hzGgiBrryO",
        "outputId": "ceb833f6-ac42-4569-8933-7fc95e546b02"
      },
      "execution_count": null,
      "outputs": [
        {
          "output_type": "stream",
          "name": "stdout",
          "text": [
            "data  data.yaml  YoloV8.ipynb\n"
          ]
        }
      ]
    },
    {
      "cell_type": "code",
      "source": [
        "!yolo task=detect mode=train model=yolov8s.pt data=data.yaml epochs=10 imgsz=224 plots=True"
      ],
      "metadata": {
        "colab": {
          "base_uri": "https://localhost:8080/"
        },
        "id": "XuOUJJnnsENq",
        "outputId": "ad6d27a6-8fd4-4670-fc3d-62d6c293d810"
      },
      "execution_count": null,
      "outputs": [
        {
          "output_type": "stream",
          "name": "stdout",
          "text": [
            "Downloading https://github.com/ultralytics/assets/releases/download/v0.0.0/yolov8s.pt to yolov8s.pt...\n",
            "100% 21.5M/21.5M [00:00<00:00, 117MB/s] \n",
            "\n",
            "Ultralytics YOLOv8.0.20 🚀 Python-3.10.12 torch-2.1.0+cu121 CPU\n",
            "\u001b[34m\u001b[1myolo/engine/trainer: \u001b[0mtask=detect, mode=train, model=yolov8s.yaml, data=data.yaml, epochs=10, patience=50, batch=16, imgsz=224, save=True, cache=False, device=, workers=8, project=None, name=None, exist_ok=False, pretrained=False, optimizer=SGD, verbose=True, seed=0, deterministic=True, single_cls=False, image_weights=False, rect=False, cos_lr=False, close_mosaic=10, resume=False, overlap_mask=True, mask_ratio=4, dropout=False, val=True, save_json=False, save_hybrid=False, conf=0.001, iou=0.7, max_det=300, half=False, dnn=False, plots=True, source=ultralytics/assets/, show=False, save_txt=False, save_conf=False, save_crop=False, hide_labels=False, hide_conf=False, vid_stride=1, line_thickness=3, visualize=False, augment=False, agnostic_nms=False, classes=None, retina_masks=False, boxes=True, format=torchscript, keras=False, optimize=False, int8=False, dynamic=False, simplify=False, opset=17, workspace=4, nms=False, lr0=0.01, lrf=0.01, momentum=0.937, weight_decay=0.001, warmup_epochs=3.0, warmup_momentum=0.8, warmup_bias_lr=0.1, box=7.5, cls=0.5, dfl=1.5, fl_gamma=0.0, label_smoothing=0.0, nbs=64, hsv_h=0.015, hsv_s=0.7, hsv_v=0.4, degrees=0.0, translate=0.1, scale=0.5, shear=0.0, perspective=0.0, flipud=0.0, fliplr=0.5, mosaic=1.0, mixup=0.0, copy_paste=0.0, cfg=None, v5loader=False, save_dir=runs/detect/train\n",
            "Downloading https://ultralytics.com/assets/Arial.ttf to /root/.config/Ultralytics/Arial.ttf...\n",
            "100% 755k/755k [00:00<00:00, 17.2MB/s]\n",
            "2024-02-15 07:40:20.132139: E external/local_xla/xla/stream_executor/cuda/cuda_dnn.cc:9261] Unable to register cuDNN factory: Attempting to register factory for plugin cuDNN when one has already been registered\n",
            "2024-02-15 07:40:20.132200: E external/local_xla/xla/stream_executor/cuda/cuda_fft.cc:607] Unable to register cuFFT factory: Attempting to register factory for plugin cuFFT when one has already been registered\n",
            "2024-02-15 07:40:20.133734: E external/local_xla/xla/stream_executor/cuda/cuda_blas.cc:1515] Unable to register cuBLAS factory: Attempting to register factory for plugin cuBLAS when one has already been registered\n",
            "2024-02-15 07:40:21.688144: W tensorflow/compiler/tf2tensorrt/utils/py_utils.cc:38] TF-TRT Warning: Could not find TensorRT\n",
            "Overriding model.yaml nc=80 with nc=5\n",
            "\n",
            "                   from  n    params  module                                       arguments                     \n",
            "  0                  -1  1       928  ultralytics.nn.modules.Conv                  [3, 32, 3, 2]                 \n",
            "  1                  -1  1     18560  ultralytics.nn.modules.Conv                  [32, 64, 3, 2]                \n",
            "  2                  -1  1     29056  ultralytics.nn.modules.C2f                   [64, 64, 1, True]             \n",
            "  3                  -1  1     73984  ultralytics.nn.modules.Conv                  [64, 128, 3, 2]               \n",
            "  4                  -1  2    197632  ultralytics.nn.modules.C2f                   [128, 128, 2, True]           \n",
            "  5                  -1  1    295424  ultralytics.nn.modules.Conv                  [128, 256, 3, 2]              \n",
            "  6                  -1  2    788480  ultralytics.nn.modules.C2f                   [256, 256, 2, True]           \n",
            "  7                  -1  1   1180672  ultralytics.nn.modules.Conv                  [256, 512, 3, 2]              \n",
            "  8                  -1  1   1838080  ultralytics.nn.modules.C2f                   [512, 512, 1, True]           \n",
            "  9                  -1  1    656896  ultralytics.nn.modules.SPPF                  [512, 512, 5]                 \n",
            " 10                  -1  1         0  torch.nn.modules.upsampling.Upsample         [None, 2, 'nearest']          \n",
            " 11             [-1, 6]  1         0  ultralytics.nn.modules.Concat                [1]                           \n",
            " 12                  -1  1    591360  ultralytics.nn.modules.C2f                   [768, 256, 1]                 \n",
            " 13                  -1  1         0  torch.nn.modules.upsampling.Upsample         [None, 2, 'nearest']          \n",
            " 14             [-1, 4]  1         0  ultralytics.nn.modules.Concat                [1]                           \n",
            " 15                  -1  1    148224  ultralytics.nn.modules.C2f                   [384, 128, 1]                 \n",
            " 16                  -1  1    147712  ultralytics.nn.modules.Conv                  [128, 128, 3, 2]              \n",
            " 17            [-1, 12]  1         0  ultralytics.nn.modules.Concat                [1]                           \n",
            " 18                  -1  1    493056  ultralytics.nn.modules.C2f                   [384, 256, 1]                 \n",
            " 19                  -1  1    590336  ultralytics.nn.modules.Conv                  [256, 256, 3, 2]              \n",
            " 20             [-1, 9]  1         0  ultralytics.nn.modules.Concat                [1]                           \n",
            " 21                  -1  1   1969152  ultralytics.nn.modules.C2f                   [768, 512, 1]                 \n",
            " 22        [15, 18, 21]  1   2117983  ultralytics.nn.modules.Detect                [5, [128, 256, 512]]          \n",
            "Model summary: 225 layers, 11137535 parameters, 11137519 gradients, 28.7 GFLOPs\n",
            "\n",
            "Transferred 349/355 items from pretrained weights\n",
            "\u001b[34m\u001b[1moptimizer:\u001b[0m SGD(lr=0.01) with parameter groups 57 weight(decay=0.0), 64 weight(decay=0.001), 63 bias\n",
            "\u001b[34m\u001b[1mtrain: \u001b[0mScanning /content/drive/MyDrive/Yolo v8/data/train/labels... 120 images, 0 backgrounds, 0 corrupt: 100% 120/120 [00:32<00:00,  3.74it/s]\n",
            "\u001b[34m\u001b[1mtrain: \u001b[0mNew cache created: /content/drive/MyDrive/Yolo v8/data/train/labels.cache\n",
            "\u001b[34m\u001b[1malbumentations: \u001b[0mBlur(p=0.01, blur_limit=(3, 7)), MedianBlur(p=0.01, blur_limit=(3, 7)), ToGray(p=0.01), CLAHE(p=0.01, clip_limit=(1, 4.0), tile_grid_size=(8, 8))\n",
            "\u001b[34m\u001b[1mval: \u001b[0mScanning /content/drive/MyDrive/Yolo v8/data/valid/labels... 31 images, 0 backgrounds, 0 corrupt: 100% 31/31 [00:15<00:00,  2.06it/s]\n",
            "\u001b[34m\u001b[1mval: \u001b[0mNew cache created: /content/drive/MyDrive/Yolo v8/data/valid/labels.cache\n",
            "Image sizes 224 train, 224 val\n",
            "Using 0 dataloader workers\n",
            "Logging results to \u001b[1mruns/detect/train\u001b[0m\n",
            "Starting training for 10 epochs...\n",
            "Closing dataloader mosaic\n",
            "\u001b[34m\u001b[1malbumentations: \u001b[0mBlur(p=0.01, blur_limit=(3, 7)), MedianBlur(p=0.01, blur_limit=(3, 7)), ToGray(p=0.01), CLAHE(p=0.01, clip_limit=(1, 4.0), tile_grid_size=(8, 8))\n",
            "\n",
            "      Epoch    GPU_mem   box_loss   cls_loss   dfl_loss  Instances       Size\n",
            "       1/10         0G      2.275      4.865      1.645         42        224: 100% 8/8 [00:38<00:00,  4.78s/it]\n",
            "                 Class     Images  Instances      Box(P          R      mAP50  mAP50-95): 100% 1/1 [00:04<00:00,  4.63s/it]\n",
            "                   all         31        101      0.442     0.0286      0.016    0.00439\n",
            "                Helmet         31         18          1          0    0.00441    0.00231\n",
            "               Goggles         31          9          0          0          0          0\n",
            "                Jacket         31         14      0.211      0.143      0.057     0.0113\n",
            "                Gloves         31         52          1          0      0.015    0.00679\n",
            "              Footwear         31          8          0          0    0.00353     0.0015\n",
            "\n",
            "      Epoch    GPU_mem   box_loss   cls_loss   dfl_loss  Instances       Size\n",
            "       2/10         0G      2.044      3.669      1.494         47        224: 100% 8/8 [00:37<00:00,  4.70s/it]\n",
            "                 Class     Images  Instances      Box(P          R      mAP50  mAP50-95): 100% 1/1 [00:04<00:00,  4.14s/it]\n",
            "                   all         31        101       0.79      0.328      0.257      0.124\n",
            "                Helmet         31         18      0.668      0.889      0.889       0.46\n",
            "               Goggles         31          9          1          0    0.00896    0.00262\n",
            "                Jacket         31         14          1          0     0.0481     0.0169\n",
            "                Gloves         31         52          1          0      0.035     0.0144\n",
            "              Footwear         31          8      0.284       0.75      0.302      0.127\n",
            "\n",
            "      Epoch    GPU_mem   box_loss   cls_loss   dfl_loss  Instances       Size\n",
            "       3/10         0G      1.928      2.474      1.373         39        224: 100% 8/8 [00:37<00:00,  4.65s/it]\n",
            "                 Class     Images  Instances      Box(P          R      mAP50  mAP50-95): 100% 1/1 [00:03<00:00,  3.80s/it]\n",
            "                   all         31        101      0.787      0.339      0.351      0.182\n",
            "                Helmet         31         18      0.811      0.889      0.898      0.556\n",
            "               Goggles         31          9          1          0     0.0193    0.00497\n",
            "                Jacket         31         14      0.755     0.0714      0.259      0.136\n",
            "                Gloves         31         52          1          0      0.166     0.0636\n",
            "              Footwear         31          8       0.37      0.735      0.414      0.151\n",
            "\n",
            "      Epoch    GPU_mem   box_loss   cls_loss   dfl_loss  Instances       Size\n",
            "       4/10         0G      1.872      2.012      1.309         43        224: 100% 8/8 [00:37<00:00,  4.66s/it]\n",
            "                 Class     Images  Instances      Box(P          R      mAP50  mAP50-95): 100% 1/1 [00:03<00:00,  3.82s/it]\n",
            "                   all         31        101      0.757      0.407      0.449      0.244\n",
            "                Helmet         31         18      0.884      0.848      0.973      0.648\n",
            "               Goggles         31          9          1          0     0.0333    0.00682\n",
            "                Jacket         31         14          1      0.196      0.488      0.255\n",
            "                Gloves         31         52      0.253      0.365       0.25      0.102\n",
            "              Footwear         31          8      0.645      0.625      0.503      0.209\n",
            "\n",
            "      Epoch    GPU_mem   box_loss   cls_loss   dfl_loss  Instances       Size\n",
            "       5/10         0G      1.732      1.676      1.251         46        224: 100% 8/8 [00:37<00:00,  4.68s/it]\n",
            "                 Class     Images  Instances      Box(P          R      mAP50  mAP50-95): 100% 1/1 [00:03<00:00,  3.77s/it]\n",
            "                   all         31        101      0.585      0.519      0.557      0.292\n",
            "                Helmet         31         18      0.895          1      0.984      0.641\n",
            "               Goggles         31          9      0.192      0.111       0.17     0.0259\n",
            "                Jacket         31         14      0.818      0.429      0.667      0.396\n",
            "                Gloves         31         52      0.335      0.308      0.239      0.121\n",
            "              Footwear         31          8      0.686       0.75      0.727      0.277\n",
            "\n",
            "      Epoch    GPU_mem   box_loss   cls_loss   dfl_loss  Instances       Size\n",
            "       6/10         0G      1.626       1.42       1.23         38        224: 100% 8/8 [00:37<00:00,  4.67s/it]\n",
            "                 Class     Images  Instances      Box(P          R      mAP50  mAP50-95): 100% 1/1 [00:03<00:00,  3.70s/it]\n",
            "                   all         31        101      0.605      0.653      0.652      0.323\n",
            "                Helmet         31         18      0.893      0.929      0.972      0.685\n",
            "               Goggles         31          9       0.29      0.444       0.32     0.0683\n",
            "                Jacket         31         14      0.714      0.537      0.738      0.392\n",
            "                Gloves         31         52      0.267      0.481      0.315      0.164\n",
            "              Footwear         31          8      0.858      0.875      0.918      0.304\n",
            "\n",
            "      Epoch    GPU_mem   box_loss   cls_loss   dfl_loss  Instances       Size\n",
            "       7/10         0G      1.602      1.327      1.194         39        224: 100% 8/8 [00:37<00:00,  4.66s/it]\n",
            "                 Class     Images  Instances      Box(P          R      mAP50  mAP50-95): 100% 1/1 [00:03<00:00,  3.71s/it]\n",
            "                   all         31        101      0.716      0.639      0.704      0.372\n",
            "                Helmet         31         18      0.931          1      0.992      0.725\n",
            "               Goggles         31          9      0.521      0.444      0.488      0.154\n",
            "                Jacket         31         14      0.877      0.429      0.728       0.46\n",
            "                Gloves         31         52      0.511      0.321      0.373      0.201\n",
            "              Footwear         31          8      0.739          1      0.939       0.32\n",
            "\n",
            "      Epoch    GPU_mem   box_loss   cls_loss   dfl_loss  Instances       Size\n",
            "       8/10         0G      1.572      1.258      1.205         32        224: 100% 8/8 [00:37<00:00,  4.64s/it]\n",
            "                 Class     Images  Instances      Box(P          R      mAP50  mAP50-95): 100% 1/1 [00:03<00:00,  3.65s/it]\n",
            "                   all         31        101      0.803      0.613      0.709      0.368\n",
            "                Helmet         31         18      0.899      0.991      0.974       0.67\n",
            "               Goggles         31          9      0.859      0.222      0.442      0.138\n",
            "                Jacket         31         14      0.944        0.5       0.75      0.445\n",
            "                Gloves         31         52      0.431      0.404      0.409      0.211\n",
            "              Footwear         31          8      0.883       0.95      0.967      0.377\n",
            "\n",
            "      Epoch    GPU_mem   box_loss   cls_loss   dfl_loss  Instances       Size\n",
            "       9/10         0G      1.545      1.203      1.167         46        224: 100% 8/8 [00:36<00:00,  4.61s/it]\n",
            "                 Class     Images  Instances      Box(P          R      mAP50  mAP50-95): 100% 1/1 [00:03<00:00,  3.76s/it]\n",
            "                   all         31        101      0.623      0.716      0.706      0.372\n",
            "                Helmet         31         18      0.871          1      0.934      0.632\n",
            "               Goggles         31          9      0.489      0.333      0.484      0.137\n",
            "                Jacket         31         14      0.709      0.786      0.784      0.452\n",
            "                Gloves         31         52      0.396      0.462       0.39       0.21\n",
            "              Footwear         31          8      0.649          1      0.939      0.428\n",
            "\n",
            "      Epoch    GPU_mem   box_loss   cls_loss   dfl_loss  Instances       Size\n",
            "      10/10         0G       1.51      1.129      1.136         36        224: 100% 8/8 [00:39<00:00,  4.95s/it]\n",
            "                 Class     Images  Instances      Box(P          R      mAP50  mAP50-95): 100% 1/1 [00:03<00:00,  3.81s/it]\n",
            "                   all         31        101      0.796      0.643      0.723      0.386\n",
            "                Helmet         31         18      0.899      0.984      0.934       0.65\n",
            "               Goggles         31          9      0.872      0.222      0.444       0.11\n",
            "                Jacket         31         14       0.84       0.75      0.889      0.531\n",
            "                Gloves         31         52      0.558      0.385      0.419      0.219\n",
            "              Footwear         31          8      0.811      0.875      0.931      0.418\n",
            "\n",
            "10 epochs completed in 0.119 hours.\n",
            "Optimizer stripped from runs/detect/train/weights/last.pt, 22.5MB\n",
            "Optimizer stripped from runs/detect/train/weights/best.pt, 22.5MB\n",
            "\n",
            "Validating runs/detect/train/weights/best.pt...\n",
            "Ultralytics YOLOv8.0.20 🚀 Python-3.10.12 torch-2.1.0+cu121 CPU\n",
            "Model summary (fused): 168 layers, 11127519 parameters, 0 gradients, 28.4 GFLOPs\n",
            "                 Class     Images  Instances      Box(P          R      mAP50  mAP50-95): 100% 1/1 [00:04<00:00,  4.29s/it]\n",
            "                   all         31        101      0.795      0.644      0.728      0.388\n",
            "                Helmet         31         18      0.899      0.986      0.934       0.65\n",
            "               Goggles         31          9      0.871      0.222      0.468       0.12\n",
            "                Jacket         31         14       0.84       0.75      0.889      0.533\n",
            "                Gloves         31         52      0.558      0.388      0.419      0.219\n",
            "              Footwear         31          8       0.81      0.875      0.931      0.418\n",
            "Speed: 0.4ms pre-process, 123.3ms inference, 0.0ms loss, 1.5ms post-process per image\n",
            "Results saved to \u001b[1mruns/detect/train\u001b[0m\n"
          ]
        }
      ]
    },
    {
      "cell_type": "code",
      "source": [
        "!yolo task=detect mode=val model=runs/detect/train/weights/best.pt data=data.yaml"
      ],
      "metadata": {
        "colab": {
          "base_uri": "https://localhost:8080/"
        },
        "id": "eMmJs6oLtXba",
        "outputId": "8233607e-0607-4551-b9d7-295a1ddee662"
      },
      "execution_count": null,
      "outputs": [
        {
          "output_type": "stream",
          "name": "stdout",
          "text": [
            "2024-02-15 07:57:33.191045: E external/local_xla/xla/stream_executor/cuda/cuda_dnn.cc:9261] Unable to register cuDNN factory: Attempting to register factory for plugin cuDNN when one has already been registered\n",
            "2024-02-15 07:57:33.191124: E external/local_xla/xla/stream_executor/cuda/cuda_fft.cc:607] Unable to register cuFFT factory: Attempting to register factory for plugin cuFFT when one has already been registered\n",
            "2024-02-15 07:57:33.194349: E external/local_xla/xla/stream_executor/cuda/cuda_blas.cc:1515] Unable to register cuBLAS factory: Attempting to register factory for plugin cuBLAS when one has already been registered\n",
            "2024-02-15 07:57:34.580301: W tensorflow/compiler/tf2tensorrt/utils/py_utils.cc:38] TF-TRT Warning: Could not find TensorRT\n",
            "Ultralytics YOLOv8.0.20 🚀 Python-3.10.12 torch-2.1.0+cu121 CPU\n",
            "Model summary (fused): 168 layers, 11127519 parameters, 0 gradients, 28.4 GFLOPs\n",
            "\u001b[34m\u001b[1mval: \u001b[0mScanning /content/drive/MyDrive/Yolo v8/data/valid/labels.cache... 31 images, 0 backgrounds, 0 corrupt: 100% 31/31 [00:00<?, ?it/s]\n",
            "                 Class     Images  Instances      Box(P          R      mAP50  mAP50-95): 100% 2/2 [00:04<00:00,  2.13s/it]\n",
            "                   all         31        101      0.845      0.627      0.736      0.397\n",
            "                Helmet         31         18      0.946      0.971       0.96       0.67\n",
            "               Goggles         31          9      0.892      0.222      0.434      0.104\n",
            "                Jacket         31         14      0.889      0.714      0.902      0.562\n",
            "                Gloves         31         52      0.671      0.353      0.451      0.233\n",
            "              Footwear         31          8      0.829      0.875      0.931      0.418\n",
            "Speed: 1.3ms pre-process, 102.1ms inference, 0.0ms loss, 1.5ms post-process per image\n"
          ]
        }
      ]
    },
    {
      "cell_type": "code",
      "source": [
        "!yolo task=detect mode=predict model=runs/detect/train/weights/best.pt conf=0.25 source=data/test/images"
      ],
      "metadata": {
        "colab": {
          "base_uri": "https://localhost:8080/"
        },
        "id": "ZtvtD8P2xTYT",
        "outputId": "38cebe40-6355-49df-884e-9ffced2f9f80"
      },
      "execution_count": null,
      "outputs": [
        {
          "output_type": "stream",
          "name": "stdout",
          "text": [
            "2024-02-15 08:00:04.976720: E external/local_xla/xla/stream_executor/cuda/cuda_dnn.cc:9261] Unable to register cuDNN factory: Attempting to register factory for plugin cuDNN when one has already been registered\n",
            "2024-02-15 08:00:04.976784: E external/local_xla/xla/stream_executor/cuda/cuda_fft.cc:607] Unable to register cuFFT factory: Attempting to register factory for plugin cuFFT when one has already been registered\n",
            "2024-02-15 08:00:04.978742: E external/local_xla/xla/stream_executor/cuda/cuda_blas.cc:1515] Unable to register cuBLAS factory: Attempting to register factory for plugin cuBLAS when one has already been registered\n",
            "2024-02-15 08:00:06.401711: W tensorflow/compiler/tf2tensorrt/utils/py_utils.cc:38] TF-TRT Warning: Could not find TensorRT\n",
            "Ultralytics YOLOv8.0.20 🚀 Python-3.10.12 torch-2.1.0+cu121 CPU\n",
            "Model summary (fused): 168 layers, 11127519 parameters, 0 gradients, 28.4 GFLOPs\n",
            "image 1/31 /content/drive/MyDrive/Yolo v8/data/test/images/1.jpeg: 192x224 1 Helmet, 1 Jacket, 4 Glovess, 94.2ms\n",
            "image 2/31 /content/drive/MyDrive/Yolo v8/data/test/images/10.jpeg: 160x224 3 Glovess, 81.7ms\n",
            "image 3/31 /content/drive/MyDrive/Yolo v8/data/test/images/11.jpeg: 224x224 1 Gloves, 99.7ms\n",
            "image 4/31 /content/drive/MyDrive/Yolo v8/data/test/images/12.jpeg: 192x224 1 Gloves, 97.8ms\n",
            "image 5/31 /content/drive/MyDrive/Yolo v8/data/test/images/13.jpeg: 128x224 1 Gloves, 71.9ms\n",
            "image 6/31 /content/drive/MyDrive/Yolo v8/data/test/images/14(1).jpeg: 224x224 93.9ms\n",
            "image 7/31 /content/drive/MyDrive/Yolo v8/data/test/images/14.jpg: 192x224 2 Helmets, 84.7ms\n",
            "image 8/31 /content/drive/MyDrive/Yolo v8/data/test/images/15.jpeg: 224x224 3 Glovess, 94.1ms\n",
            "image 9/31 /content/drive/MyDrive/Yolo v8/data/test/images/16.jpeg: 224x160 2 Helmets, 1 Goggles, 2 Jackets, 1 Gloves, 132.4ms\n",
            "image 10/31 /content/drive/MyDrive/Yolo v8/data/test/images/17.jpeg: 160x224 1 Helmet, 3 Glovess, 123.1ms\n",
            "image 11/31 /content/drive/MyDrive/Yolo v8/data/test/images/18.jpeg: 224x160 1 Helmet, 1 Goggles, 1 Jacket, 1 Gloves, 122.4ms\n",
            "image 12/31 /content/drive/MyDrive/Yolo v8/data/test/images/19.jpeg: 224x224 1 Helmet, 2 Jackets, 2 Glovess, 141.0ms\n",
            "image 13/31 /content/drive/MyDrive/Yolo v8/data/test/images/2.jpeg: 160x224 116.1ms\n",
            "image 14/31 /content/drive/MyDrive/Yolo v8/data/test/images/20.jpeg: 224x160 1 Helmet, 1 Jacket, 2 Glovess, 2 Footwears, 150.8ms\n",
            "image 15/31 /content/drive/MyDrive/Yolo v8/data/test/images/21.jpeg: 224x160 1 Helmet, 1 Jacket, 1 Gloves, 3 Footwears, 120.2ms\n",
            "image 16/31 /content/drive/MyDrive/Yolo v8/data/test/images/22.jpeg: 224x128 1 Helmet, 1 Jacket, 2 Glovess, 2 Footwears, 107.0ms\n",
            "image 17/31 /content/drive/MyDrive/Yolo v8/data/test/images/23.jpeg: 224x160 1 Helmet, 1 Jacket, 1 Gloves, 2 Footwears, 82.3ms\n",
            "image 18/31 /content/drive/MyDrive/Yolo v8/data/test/images/24.jpeg: 224x192 1 Helmet, 3 Goggless, 1 Jacket, 4 Glovess, 89.8ms\n",
            "image 19/31 /content/drive/MyDrive/Yolo v8/data/test/images/25.jpeg: 224x192 1 Helmet, 1 Jacket, 2 Glovess, 82.7ms\n",
            "image 20/31 /content/drive/MyDrive/Yolo v8/data/test/images/26.jpeg: 224x224 99.7ms\n",
            "image 21/31 /content/drive/MyDrive/Yolo v8/data/test/images/27.jpeg: 224x224 1 Gloves, 108.0ms\n",
            "image 22/31 /content/drive/MyDrive/Yolo v8/data/test/images/28.jpeg: 192x224 2 Glovess, 82.1ms\n",
            "image 23/31 /content/drive/MyDrive/Yolo v8/data/test/images/29.jpeg: 128x224 6 Glovess, 60.6ms\n",
            "image 24/31 /content/drive/MyDrive/Yolo v8/data/test/images/3.jpeg: 192x224 1 Helmet, 81.3ms\n",
            "image 25/31 /content/drive/MyDrive/Yolo v8/data/test/images/30.jpeg: 160x224 2 Glovess, 77.5ms\n",
            "image 26/31 /content/drive/MyDrive/Yolo v8/data/test/images/4.jpeg: 224x160 1 Helmet, 1 Gloves, 74.5ms\n",
            "image 27/31 /content/drive/MyDrive/Yolo v8/data/test/images/5.jpeg: 160x224 1 Helmet, 75.3ms\n",
            "image 28/31 /content/drive/MyDrive/Yolo v8/data/test/images/6.jpeg: 160x224 1 Helmet, 1 Jacket, 3 Glovess, 71.6ms\n",
            "image 29/31 /content/drive/MyDrive/Yolo v8/data/test/images/7.jpeg: 160x224 1 Helmet, 5 Glovess, 78.9ms\n",
            "image 30/31 /content/drive/MyDrive/Yolo v8/data/test/images/8.jpeg: 160x224 1 Helmet, 1 Jacket, 1 Gloves, 75.0ms\n",
            "image 31/31 /content/drive/MyDrive/Yolo v8/data/test/images/9.jpeg: 160x224 1 Helmet, 1 Jacket, 5 Glovess, 72.5ms\n",
            "Speed: 0.3ms pre-process, 94.9ms inference, 1.2ms postprocess per image at shape (1, 3, 224, 224)\n"
          ]
        }
      ]
    },
    {
      "cell_type": "code",
      "source": [],
      "metadata": {
        "id": "BPOlr1iCx4nK"
      },
      "execution_count": null,
      "outputs": []
    }
  ]
}